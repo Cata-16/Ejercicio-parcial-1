{
 "cells": [
  {
   "cell_type": "code",
   "execution_count": 12,
   "metadata": {},
   "outputs": [
    {
     "name": "stdout",
     "output_type": "stream",
     "text": [
      "La clave correcta es: 35\n",
      "URL descifrada: https://github.com/mattzarate333\n"
     ]
    }
   ],
   "source": [
    "def encriptar_url(url):\n",
    "    encriptada = \"\"\n",
    "    for i in range(len(url)):\n",
    "        encriptada += chr(ord(url[i]) + (i % 3) + 1)\n",
    "    return encriptada\n",
    "\n",
    "def desencriptar_url(url_encriptada, clave):\n",
    "    # Asumimos que \"edad_profesor\" es igual a la clave\n",
    "    edad_profesor = clave\n",
    "    \n",
    "    if clave != edad_profesor:\n",
    "        print(\"Clave incorrecta. No se puede desencriptar.\")\n",
    "        return None\n",
    "\n",
    "    desencriptada = \"\"\n",
    "    for i in range(len(url_encriptada)):\n",
    "        desencriptada += chr(ord(url_encriptada[i]) - (i % 3) - 1)\n",
    "    \n",
    "    return desencriptada\n",
    "\n",
    "# URL encriptada proporcionada\n",
    "url_encriptada = \"ivwqu=01jjvkvd1dqp0oduv}btdug645\"\n",
    "\n",
    "# Probar todas las claves posibles de 10 a 99\n",
    "for clave in range(35,100):\n",
    "    url_descifrada = desencriptar_url(url_encriptada, clave)\n",
    "    if url_descifrada and \"http\" in url_descifrada:\n",
    "        print(f\"La clave correcta es: {clave}\")\n",
    "        print(f\"URL descifrada: {url_descifrada}\")\n",
    "        break"
   ]
  }
 ],
 "metadata": {
  "kernelspec": {
   "display_name": "Python 3",
   "language": "python",
   "name": "python3"
  },
  "language_info": {
   "codemirror_mode": {
    "name": "ipython",
    "version": 3
   },
   "file_extension": ".py",
   "mimetype": "text/x-python",
   "name": "python",
   "nbconvert_exporter": "python",
   "pygments_lexer": "ipython3",
   "version": "3.12.2"
  }
 },
 "nbformat": 4,
 "nbformat_minor": 2
}
